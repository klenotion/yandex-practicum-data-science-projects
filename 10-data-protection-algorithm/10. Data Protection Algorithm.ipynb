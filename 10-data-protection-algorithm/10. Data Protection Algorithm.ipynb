{
 "cells": [
  {
   "cell_type": "markdown",
   "metadata": {
    "toc": true
   },
   "source": [
    "<h1>Содержание<span class=\"tocSkip\"></span></h1>\n",
    "<div class=\"toc\"><ul class=\"toc-item\"><li><span><a href=\"#Загрузка-данных\" data-toc-modified-id=\"Загрузка-данных-1\"><span class=\"toc-item-num\">1&nbsp;&nbsp;</span>Загрузка данных</a></span></li><li><span><a href=\"#Умножение-матриц\" data-toc-modified-id=\"Умножение-матриц-2\"><span class=\"toc-item-num\">2&nbsp;&nbsp;</span>Умножение матриц</a></span></li><li><span><a href=\"#Алгоритм-преобразования\" data-toc-modified-id=\"Алгоритм-преобразования-3\"><span class=\"toc-item-num\">3&nbsp;&nbsp;</span>Алгоритм преобразования</a></span></li><li><span><a href=\"#Проверка-алгоритма\" data-toc-modified-id=\"Проверка-алгоритма-4\"><span class=\"toc-item-num\">4&nbsp;&nbsp;</span>Проверка алгоритма</a></span></li><li><span><a href=\"#Чек-лист-проверки\" data-toc-modified-id=\"Чек-лист-проверки-5\"><span class=\"toc-item-num\">5&nbsp;&nbsp;</span>Чек-лист проверки</a></span></li></ul></div>"
   ]
  },
  {
   "cell_type": "markdown",
   "metadata": {},
   "source": [
    "# Защита персональных данных клиентов"
   ]
  },
  {
   "cell_type": "markdown",
   "metadata": {},
   "source": [
    "Вам нужно защитить данные клиентов страховой компании «Хоть потоп». Разработайте такой метод преобразования данных, чтобы по ним было сложно восстановить персональную информацию. Обоснуйте корректность его работы.\n",
    "\n",
    "Нужно защитить данные, чтобы при преобразовании качество моделей машинного обучения не ухудшилось. Подбирать наилучшую модель не требуется."
   ]
  },
  {
   "cell_type": "markdown",
   "metadata": {},
   "source": [
    "## Загрузка данных"
   ]
  },
  {
   "cell_type": "code",
   "execution_count": 1,
   "metadata": {},
   "outputs": [],
   "source": [
    "import pandas as pd\n",
    "import numpy as np\n",
    "import matplotlib.pyplot as plt\n",
    "import seaborn as sns\n",
    "import os\n",
    "import urllib.request\n",
    "from pathlib import Path\n",
    "from sklearn.model_selection import train_test_split\n",
    "from sklearn.linear_model import LinearRegression\n",
    "from sklearn.preprocessing import StandardScaler\n",
    "from sklearn.metrics import r2_score, mean_squared_error"
   ]
  },
  {
   "cell_type": "code",
   "execution_count": 2,
   "metadata": {},
   "outputs": [],
   "source": [
    "df = pd.read_csv('/datasets/insurance.csv')"
   ]
  },
  {
   "cell_type": "code",
   "execution_count": 3,
   "metadata": {},
   "outputs": [
    {
     "data": {
      "text/html": [
       "<div>\n",
       "<style scoped>\n",
       "    .dataframe tbody tr th:only-of-type {\n",
       "        vertical-align: middle;\n",
       "    }\n",
       "\n",
       "    .dataframe tbody tr th {\n",
       "        vertical-align: top;\n",
       "    }\n",
       "\n",
       "    .dataframe thead th {\n",
       "        text-align: right;\n",
       "    }\n",
       "</style>\n",
       "<table border=\"1\" class=\"dataframe\">\n",
       "  <thead>\n",
       "    <tr style=\"text-align: right;\">\n",
       "      <th></th>\n",
       "      <th>Пол</th>\n",
       "      <th>Возраст</th>\n",
       "      <th>Зарплата</th>\n",
       "      <th>Члены семьи</th>\n",
       "      <th>Страховые выплаты</th>\n",
       "    </tr>\n",
       "  </thead>\n",
       "  <tbody>\n",
       "    <tr>\n",
       "      <td>0</td>\n",
       "      <td>1</td>\n",
       "      <td>41.0</td>\n",
       "      <td>49600.0</td>\n",
       "      <td>1</td>\n",
       "      <td>0</td>\n",
       "    </tr>\n",
       "    <tr>\n",
       "      <td>1</td>\n",
       "      <td>0</td>\n",
       "      <td>46.0</td>\n",
       "      <td>38000.0</td>\n",
       "      <td>1</td>\n",
       "      <td>1</td>\n",
       "    </tr>\n",
       "    <tr>\n",
       "      <td>2</td>\n",
       "      <td>0</td>\n",
       "      <td>29.0</td>\n",
       "      <td>21000.0</td>\n",
       "      <td>0</td>\n",
       "      <td>0</td>\n",
       "    </tr>\n",
       "    <tr>\n",
       "      <td>3</td>\n",
       "      <td>0</td>\n",
       "      <td>21.0</td>\n",
       "      <td>41700.0</td>\n",
       "      <td>2</td>\n",
       "      <td>0</td>\n",
       "    </tr>\n",
       "    <tr>\n",
       "      <td>4</td>\n",
       "      <td>1</td>\n",
       "      <td>28.0</td>\n",
       "      <td>26100.0</td>\n",
       "      <td>0</td>\n",
       "      <td>0</td>\n",
       "    </tr>\n",
       "  </tbody>\n",
       "</table>\n",
       "</div>"
      ],
      "text/plain": [
       "   Пол  Возраст  Зарплата  Члены семьи  Страховые выплаты\n",
       "0    1     41.0   49600.0            1                  0\n",
       "1    0     46.0   38000.0            1                  1\n",
       "2    0     29.0   21000.0            0                  0\n",
       "3    0     21.0   41700.0            2                  0\n",
       "4    1     28.0   26100.0            0                  0"
      ]
     },
     "execution_count": 3,
     "metadata": {},
     "output_type": "execute_result"
    }
   ],
   "source": [
    "df.head()"
   ]
  },
  {
   "cell_type": "code",
   "execution_count": 4,
   "metadata": {},
   "outputs": [
    {
     "name": "stdout",
     "output_type": "stream",
     "text": [
      "<class 'pandas.core.frame.DataFrame'>\n",
      "RangeIndex: 5000 entries, 0 to 4999\n",
      "Data columns (total 5 columns):\n",
      "Пол                  5000 non-null int64\n",
      "Возраст              5000 non-null float64\n",
      "Зарплата             5000 non-null float64\n",
      "Члены семьи          5000 non-null int64\n",
      "Страховые выплаты    5000 non-null int64\n",
      "dtypes: float64(2), int64(3)\n",
      "memory usage: 195.4 KB\n"
     ]
    }
   ],
   "source": [
    "df.info()"
   ]
  },
  {
   "cell_type": "code",
   "execution_count": 5,
   "metadata": {},
   "outputs": [
    {
     "data": {
      "text/html": [
       "<div>\n",
       "<style scoped>\n",
       "    .dataframe tbody tr th:only-of-type {\n",
       "        vertical-align: middle;\n",
       "    }\n",
       "\n",
       "    .dataframe tbody tr th {\n",
       "        vertical-align: top;\n",
       "    }\n",
       "\n",
       "    .dataframe thead th {\n",
       "        text-align: right;\n",
       "    }\n",
       "</style>\n",
       "<table border=\"1\" class=\"dataframe\">\n",
       "  <thead>\n",
       "    <tr style=\"text-align: right;\">\n",
       "      <th></th>\n",
       "      <th>Пол</th>\n",
       "      <th>Возраст</th>\n",
       "      <th>Зарплата</th>\n",
       "      <th>Члены семьи</th>\n",
       "      <th>Страховые выплаты</th>\n",
       "    </tr>\n",
       "  </thead>\n",
       "  <tbody>\n",
       "    <tr>\n",
       "      <td>count</td>\n",
       "      <td>5000.000000</td>\n",
       "      <td>5000.000000</td>\n",
       "      <td>5000.000000</td>\n",
       "      <td>5000.000000</td>\n",
       "      <td>5000.000000</td>\n",
       "    </tr>\n",
       "    <tr>\n",
       "      <td>mean</td>\n",
       "      <td>0.499000</td>\n",
       "      <td>30.952800</td>\n",
       "      <td>39916.360000</td>\n",
       "      <td>1.194200</td>\n",
       "      <td>0.148000</td>\n",
       "    </tr>\n",
       "    <tr>\n",
       "      <td>std</td>\n",
       "      <td>0.500049</td>\n",
       "      <td>8.440807</td>\n",
       "      <td>9900.083569</td>\n",
       "      <td>1.091387</td>\n",
       "      <td>0.463183</td>\n",
       "    </tr>\n",
       "    <tr>\n",
       "      <td>min</td>\n",
       "      <td>0.000000</td>\n",
       "      <td>18.000000</td>\n",
       "      <td>5300.000000</td>\n",
       "      <td>0.000000</td>\n",
       "      <td>0.000000</td>\n",
       "    </tr>\n",
       "    <tr>\n",
       "      <td>25%</td>\n",
       "      <td>0.000000</td>\n",
       "      <td>24.000000</td>\n",
       "      <td>33300.000000</td>\n",
       "      <td>0.000000</td>\n",
       "      <td>0.000000</td>\n",
       "    </tr>\n",
       "    <tr>\n",
       "      <td>50%</td>\n",
       "      <td>0.000000</td>\n",
       "      <td>30.000000</td>\n",
       "      <td>40200.000000</td>\n",
       "      <td>1.000000</td>\n",
       "      <td>0.000000</td>\n",
       "    </tr>\n",
       "    <tr>\n",
       "      <td>75%</td>\n",
       "      <td>1.000000</td>\n",
       "      <td>37.000000</td>\n",
       "      <td>46600.000000</td>\n",
       "      <td>2.000000</td>\n",
       "      <td>0.000000</td>\n",
       "    </tr>\n",
       "    <tr>\n",
       "      <td>max</td>\n",
       "      <td>1.000000</td>\n",
       "      <td>65.000000</td>\n",
       "      <td>79000.000000</td>\n",
       "      <td>6.000000</td>\n",
       "      <td>5.000000</td>\n",
       "    </tr>\n",
       "  </tbody>\n",
       "</table>\n",
       "</div>"
      ],
      "text/plain": [
       "               Пол      Возраст      Зарплата  Члены семьи  Страховые выплаты\n",
       "count  5000.000000  5000.000000   5000.000000  5000.000000        5000.000000\n",
       "mean      0.499000    30.952800  39916.360000     1.194200           0.148000\n",
       "std       0.500049     8.440807   9900.083569     1.091387           0.463183\n",
       "min       0.000000    18.000000   5300.000000     0.000000           0.000000\n",
       "25%       0.000000    24.000000  33300.000000     0.000000           0.000000\n",
       "50%       0.000000    30.000000  40200.000000     1.000000           0.000000\n",
       "75%       1.000000    37.000000  46600.000000     2.000000           0.000000\n",
       "max       1.000000    65.000000  79000.000000     6.000000           5.000000"
      ]
     },
     "execution_count": 5,
     "metadata": {},
     "output_type": "execute_result"
    }
   ],
   "source": [
    "df.describe()"
   ]
  },
  {
   "cell_type": "code",
   "execution_count": 6,
   "metadata": {},
   "outputs": [
    {
     "data": {
      "text/plain": [
       "Пол                  int64\n",
       "Возраст              int64\n",
       "Зарплата             int64\n",
       "Члены семьи          int64\n",
       "Страховые выплаты    int64\n",
       "dtype: object"
      ]
     },
     "execution_count": 6,
     "metadata": {},
     "output_type": "execute_result"
    }
   ],
   "source": [
    "df['Возраст'] = df['Возраст'].astype('int')\n",
    "df['Зарплата'] = df['Зарплата'].astype('int')\n",
    "df.dtypes"
   ]
  },
  {
   "cell_type": "code",
   "execution_count": 7,
   "metadata": {},
   "outputs": [
    {
     "data": {
      "text/plain": [
       "153"
      ]
     },
     "execution_count": 7,
     "metadata": {},
     "output_type": "execute_result"
    }
   ],
   "source": [
    "df.duplicated().sum()"
   ]
  },
  {
   "cell_type": "code",
   "execution_count": 8,
   "metadata": {},
   "outputs": [
    {
     "data": {
      "text/plain": [
       "Пол                  0\n",
       "Возраст              0\n",
       "Зарплата             0\n",
       "Члены семьи          0\n",
       "Страховые выплаты    0\n",
       "dtype: int64"
      ]
     },
     "execution_count": 8,
     "metadata": {},
     "output_type": "execute_result"
    }
   ],
   "source": [
    "df.isna().sum()"
   ]
  },
  {
   "cell_type": "code",
   "execution_count": 9,
   "metadata": {},
   "outputs": [],
   "source": [
    "df = df.drop_duplicates()"
   ]
  },
  {
   "cell_type": "markdown",
   "metadata": {},
   "source": [
    "## Умножение матриц"
   ]
  },
  {
   "cell_type": "markdown",
   "metadata": {},
   "source": [
    "В этом задании вы можете записывать формулы в *Jupyter Notebook.*\n",
    "\n",
    "Чтобы записать формулу внутри текста, окружите её символами доллара \\\\$; если снаружи —  двойными символами \\\\$\\\\$. Эти формулы записываются на языке вёрстки *LaTeX.* \n",
    "\n",
    "Для примера мы записали формулы линейной регрессии. Можете их скопировать и отредактировать, чтобы решить задачу.\n",
    "\n",
    "Работать в *LaTeX* необязательно."
   ]
  },
  {
   "cell_type": "markdown",
   "metadata": {},
   "source": [
    "Обозначения:\n",
    "\n",
    "- $X$ — матрица признаков (нулевой столбец состоит из единиц)\n",
    "\n",
    "- $y$ — вектор целевого признака\n",
    "\n",
    "- $P$ — матрица, на которую умножаются признаки\n",
    "\n",
    "- $w$ — вектор весов линейной регрессии (нулевой элемент равен сдвигу)"
   ]
  },
  {
   "cell_type": "markdown",
   "metadata": {},
   "source": [
    "Предсказания:\n",
    "\n",
    "$$\n",
    "a = Xw\n",
    "$$\n",
    "\n",
    "Задача обучения:\n",
    "\n",
    "$$\n",
    "w = \\arg\\min_w MSE(Xw, y)\n",
    "$$\n",
    "\n",
    "Формула обучения:\n",
    "\n",
    "$$\n",
    "w = (X^T X)^{-1} X^T y\n",
    "$$"
   ]
  },
  {
   "cell_type": "markdown",
   "metadata": {},
   "source": [
    "**Ответ:**\n",
    "Формула расчета весов для линейной регрессии:\n",
    "\n",
    "$$\n",
    "w = (X^T X)^{-1} X^T y\n",
    "$$\n",
    "Представим новую матрицу признаков $X1$ как произведение старой $X$ на матрицу $P$ (обратимую):\n",
    "\n",
    "$$\n",
    "X1 = X * P\n",
    "$$\n",
    "Подставим новое значение X1 в формулу $w1$:\n",
    "\n",
    "$$\n",
    "w1 = ((X P)^T X P)^{-1} (X P)^T y\n",
    "$$\n",
    "Раскроем первое произведение $ (XP)^T $:\n",
    "\n",
    "$$\n",
    "w1 = (P^T X^T X P)^{-1} P^T X^T y\n",
    "$$\n",
    "Перегруппируем множители в скобках, чтобы это выглядело как произведение трех множителей:\n",
    "\n",
    "$$\n",
    "w1 = (P^T (X^T X) P)^{-1} P^T X^T y\n",
    "$$\n",
    "Раскроем скобки $ (P^T (X^T X) P)^{-1} $:\n",
    "\n",
    "$$\n",
    "w1 = P^{-1} (X^T X)^{-1} (P^T)^{-1} P^T X^T y\n",
    "$$\n",
    "Так как $P$ по условию обратимая, то произведение $(P^T)^{-1} P^T$ равно $E$ (единичная матрица):\n",
    "\n",
    "$$\n",
    "w1 = P^{-1} (X^T X)^{-1} E X^T y = P^{-1} (X^T X)^{-1} X^T y\n",
    "$$\n",
    "Можно заметить, что справа получилась формула для $w$:\n",
    "\n",
    "$$\n",
    "w1 = P^{-1} (X^T X)^{-1} X^T y = P^{-1} w\n",
    "$$\n",
    "Подставим новое значение весов 𝑤1 в формулу для предсказаний линейной регрессии. Предсказания модели расчитываются по формуле:\n",
    "\n",
    "$$\n",
    "a = Xw\n",
    "$$\n",
    "Подставим в эту формулу значения $X1$ и $w1$ для того, чтобы на их основе вычислить предсказания модели $a1$:\n",
    "\n",
    "$$\n",
    "a1 = X1w1 = XPP^{-1} w\n",
    "$$\n",
    "Так как $P$ по условию обратимая, то произведение $PP^{-1}$ снова равно $E$:\n",
    "\n",
    "$$\n",
    "a1 = XPP^{-1} w = X E w = X w = a\n",
    "$$\n",
    "Мы доказали, что предсказания $a1$ для матрицы признаков, умноженных на обратимую матрицу $P$ равны предсказаниям $a$.\n",
    "Следовательно, отвечая на вопрос изменится ли качество линейной регрессии при умножении признаков на обратимую матрицу - нет, не изменится. В данном случае, параметры линейной регрессии в исходной задаче $w$ и в преобразованной $w1$ связаны следующим образом:\n",
    "\n",
    "$$\n",
    "w1 = P^{-1} w\n",
    "$$\n",
    "\n",
    "**Обоснование:** При умножении признаков на обратимую матрицу, предсказания модели не поменяется, но поменяются веса для новых признаков. Придется переобучать модель на новых признаках."
   ]
  },
  {
   "cell_type": "markdown",
   "metadata": {},
   "source": [
    "## Алгоритм преобразования"
   ]
  },
  {
   "cell_type": "markdown",
   "metadata": {},
   "source": [
    "Чтобы защитить данные и потерять качество модели машинного обучения, нужно умножить признаки на обратимую матрицу $P$. Для этого алгоритм преобразования данных должен содержать процесс создания подобной матрицы $P$ и ее умножения на матрицу признаков."
   ]
  },
  {
   "cell_type": "markdown",
   "metadata": {},
   "source": [
    "Так как по условию задачи эта матрица при умножении на матрицу признаков должна давать матрицу такого же размера как исходная, то $P$ должна быть квадратной с размером, равным количеству признаков, в нашем случае их 4."
   ]
  },
  {
   "cell_type": "code",
   "execution_count": 10,
   "metadata": {},
   "outputs": [
    {
     "data": {
      "text/plain": [
       "array([[93, 99, 23, 93],\n",
       "       [11, 39, 44, 74],\n",
       "       [77, 71, 44, 80],\n",
       "       [25, 45, 20, 58]])"
      ]
     },
     "execution_count": 10,
     "metadata": {},
     "output_type": "execute_result"
    }
   ],
   "source": [
    "random_matrix = np.random.randint(100,size = (4, 4))\n",
    "random_matrix"
   ]
  },
  {
   "cell_type": "markdown",
   "metadata": {},
   "source": [
    "Проверим матрицу на обратимость"
   ]
  },
  {
   "cell_type": "code",
   "execution_count": 11,
   "metadata": {},
   "outputs": [
    {
     "data": {
      "text/plain": [
       "array([[ -2.77477477,  -3.09725635,   1.95454545,   5.70495495],\n",
       "       [  6.7027027 ,   7.4465602 ,  -4.68181818, -13.79054054],\n",
       "       [  3.54054054,   3.97113022,  -2.45454545,  -7.35810811],\n",
       "       [ -5.22522523,  -5.81183456,   3.63636364,  10.79504505]])"
      ]
     },
     "execution_count": 11,
     "metadata": {},
     "output_type": "execute_result"
    }
   ],
   "source": [
    "matrix_inverted = np.linalg.inv(random_matrix)\n",
    "matrix_inverted"
   ]
  },
  {
   "cell_type": "markdown",
   "metadata": {},
   "source": [
    "Нам известно, что предсказания модели при преобразовании не поменяются, а значит качество модели тоже не должно меняться, так как качество модели - это производная от предсказаний (которые одинаковы до и после преобразований) и целевого признака.\n",
    "Подкрепим теоритические рассуждения примером на цифрах из таблицы. Для этого самостоятельно расчитаем вектора предсказаний $a$ и $a1$ по формулам и сравним их между собой.\n",
    "Сначала выделим признаки и целевой признак:"
   ]
  },
  {
   "cell_type": "code",
   "execution_count": 12,
   "metadata": {},
   "outputs": [],
   "source": [
    "#признаки и целевой признак\n",
    "features = df.drop('Страховые выплаты', axis = 1)\n",
    "target = df['Страховые выплаты']\n",
    " \n",
    "#масштабирование\n",
    "scaler = StandardScaler()\n",
    "scaler.fit(features)\n",
    "features_scaled = scaler.transform(features)"
   ]
  },
  {
   "cell_type": "markdown",
   "metadata": {},
   "source": [
    "Расчитаем веса $w$ для исходных признаков (масштабированных) по стандартной формуле $w = (X^T X)^{-1} X^T y$"
   ]
  },
  {
   "cell_type": "code",
   "execution_count": 13,
   "metadata": {},
   "outputs": [],
   "source": [
    "w = np.linalg.inv(features_scaled.T.dot(features_scaled)).dot(features_scaled.T).dot(target)"
   ]
  },
  {
   "cell_type": "markdown",
   "metadata": {},
   "source": [
    "Расчитаем вектор предсказаний по исходным признакам по формуле 𝑎=𝑋𝑤"
   ]
  },
  {
   "cell_type": "code",
   "execution_count": 14,
   "metadata": {},
   "outputs": [],
   "source": [
    "a = features_scaled @ w"
   ]
  },
  {
   "cell_type": "markdown",
   "metadata": {},
   "source": [
    "Проведем преобразование признаков:"
   ]
  },
  {
   "cell_type": "code",
   "execution_count": 15,
   "metadata": {},
   "outputs": [],
   "source": [
    "features_scaled_p = features_scaled @ random_matrix"
   ]
  },
  {
   "cell_type": "markdown",
   "metadata": {},
   "source": [
    "Расчитаем веса  𝑤1  для преобразованных признаков по стандартной формуле  𝑤=(𝑋𝑇𝑋)−1𝑋𝑇𝑦"
   ]
  },
  {
   "cell_type": "code",
   "execution_count": 16,
   "metadata": {},
   "outputs": [],
   "source": [
    "w1 = np.linalg.inv(features_scaled_p.T.dot(features_scaled_p)).dot(features_scaled_p.T).dot(target)"
   ]
  },
  {
   "cell_type": "markdown",
   "metadata": {},
   "source": [
    "Расчитаем вектор предсказаний по преобразованным признакам по формуле  𝑎=𝑋𝑤"
   ]
  },
  {
   "cell_type": "code",
   "execution_count": 17,
   "metadata": {},
   "outputs": [],
   "source": [
    "a1 = features_scaled_p @ w1"
   ]
  },
  {
   "cell_type": "markdown",
   "metadata": {},
   "source": [
    "Получим вектор разниц между предсказаниями по исходным признакам  𝑎  и преобразованным  𝑎1 :"
   ]
  },
  {
   "cell_type": "code",
   "execution_count": 18,
   "metadata": {},
   "outputs": [],
   "source": [
    "diff = a - a1"
   ]
  },
  {
   "cell_type": "markdown",
   "metadata": {},
   "source": [
    "Просуммируем все элементы вектора diff, чтобы убедиться, что расхождения минимальны."
   ]
  },
  {
   "cell_type": "code",
   "execution_count": 19,
   "metadata": {},
   "outputs": [
    {
     "data": {
      "text/plain": [
       "-3.955404493521941e-11"
      ]
     },
     "execution_count": 19,
     "metadata": {},
     "output_type": "execute_result"
    }
   ],
   "source": [
    "diff.sum()"
   ]
  },
  {
   "cell_type": "markdown",
   "metadata": {},
   "source": [
    "Чтобы уж наверняка, округлим элекменты векторов предсказаний и выведем на экран их разницу, если она больше 0."
   ]
  },
  {
   "cell_type": "code",
   "execution_count": 20,
   "metadata": {},
   "outputs": [
    {
     "data": {
      "text/plain": [
       "[]"
      ]
     },
     "execution_count": 20,
     "metadata": {},
     "output_type": "execute_result"
    }
   ],
   "source": [
    "[print(round(a[i])-round(a1[i])) for i in range(len(a)) if np.abs(round(a[i]) - round(a1[i])) > 0]"
   ]
  },
  {
   "cell_type": "markdown",
   "metadata": {},
   "source": [
    "**Вывод:**\\\n",
    "Расхождений нет. Мы предложилм алгоритм преобразования данных для решения задачи и обосновали, почему качество линейной регрессии не поменяется.\n",
    "\n"
   ]
  },
  {
   "cell_type": "markdown",
   "metadata": {},
   "source": [
    "## Проверка алгоритма"
   ]
  },
  {
   "cell_type": "markdown",
   "metadata": {},
   "source": [
    "Создадим модель линейной регрессии для исходных данных и посмотрим ее оценку R2_Score"
   ]
  },
  {
   "cell_type": "code",
   "execution_count": 21,
   "metadata": {},
   "outputs": [
    {
     "name": "stdout",
     "output_type": "stream",
     "text": [
      "MSE Score: 0.1252726382276536\n",
      "R2_Score на исходных данных:  0.4302010046633359\n"
     ]
    }
   ],
   "source": [
    "model = LinearRegression(normalize = True)\n",
    "model.fit(features, target)\n",
    "predictions = model.predict(features)\n",
    "mse = mean_squared_error(target, predictions)\n",
    "print('MSE Score:', mse)\n",
    "print('R2_Score на исходных данных: ',r2_score(target, predictions))"
   ]
  },
  {
   "cell_type": "markdown",
   "metadata": {},
   "source": [
    "Преобразуем признаки умножив на матрицу P и рассчитаем R2_Score"
   ]
  },
  {
   "cell_type": "code",
   "execution_count": 22,
   "metadata": {},
   "outputs": [
    {
     "name": "stdout",
     "output_type": "stream",
     "text": [
      "MSE Score: 0.1252726382276536\n",
      "R2_Score для преобразованных  признаков:  0.4302010046633368\n"
     ]
    }
   ],
   "source": [
    "features_matrix = features_scaled @ random_matrix\n",
    "model.fit(features_matrix, target)\n",
    "predictions_matrix = model.predict(features_matrix)\n",
    "mse = mean_squared_error(target, predictions)\n",
    "print('MSE Score:', mse)\n",
    "print('R2_Score для преобразованных  признаков: ',r2_score(target, predictions_matrix))"
   ]
  },
  {
   "cell_type": "markdown",
   "metadata": {},
   "source": [
    "**Вывод:** \\\n",
    "Исходя их полученных результатов, можно сказать, что преобразованные данные схожи с результатами исходных данных. То есть, мы защитили данные пользователей и при этом не ухудшили качество модели машинного обучения."
   ]
  }
 ],
 "metadata": {
  "kernelspec": {
   "display_name": "Python 3 (ipykernel)",
   "language": "python",
   "name": "python3"
  },
  "language_info": {
   "codemirror_mode": {
    "name": "ipython",
    "version": 3
   },
   "file_extension": ".py",
   "mimetype": "text/x-python",
   "name": "python",
   "nbconvert_exporter": "python",
   "pygments_lexer": "ipython3",
   "version": "3.10.7"
  },
  "toc": {
   "base_numbering": 1,
   "nav_menu": {},
   "number_sections": true,
   "sideBar": true,
   "skip_h1_title": true,
   "title_cell": "Содержание",
   "title_sidebar": "Contents",
   "toc_cell": true,
   "toc_position": {},
   "toc_section_display": true,
   "toc_window_display": false
  }
 },
 "nbformat": 4,
 "nbformat_minor": 2
}
